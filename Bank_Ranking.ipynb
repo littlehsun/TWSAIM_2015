{
 "cells": [
  {
   "cell_type": "code",
   "execution_count": 1,
   "metadata": {
    "collapsed": true
   },
   "outputs": [],
   "source": [
    "import pandas as pd\n",
    "import numpy as np"
   ]
  },
  {
   "cell_type": "code",
   "execution_count": 2,
   "metadata": {
    "collapsed": false
   },
   "outputs": [],
   "source": [
    "df = pd.read_csv('Total_Bank.csv',index_col= 'Unnamed: 0')"
   ]
  },
  {
   "cell_type": "code",
   "execution_count": 3,
   "metadata": {
    "collapsed": false
   },
   "outputs": [],
   "source": [
    "index = ['高雄銀行','安泰銀行','第一銀行','兆豐銀行','台新銀行','台灣銀行','三信銀行','上海銀行','中國信託','元大銀行','匯豐銀行','臺北富邦銀行','台灣中小企業銀行','土地銀行','合作金庫','大眾銀行','新光銀行','日盛銀行','國泰世華銀行','玉山銀行']"
   ]
  },
  {
   "cell_type": "code",
   "execution_count": 4,
   "metadata": {
    "collapsed": false
   },
   "outputs": [],
   "source": [
    "g = df['USD':'HKD'].values[1]"
   ]
  },
  {
   "cell_type": "code",
   "execution_count": 5,
   "metadata": {
    "collapsed": false
   },
   "outputs": [],
   "source": [
    "def f1(x,n):\n",
    "    a = (max(x)-min(x))/float(n)\n",
    "    interval = [min(x)+i*a for i in range(n+1)]\n",
    "    return interval"
   ]
  },
  {
   "cell_type": "code",
   "execution_count": 6,
   "metadata": {
    "collapsed": false
   },
   "outputs": [],
   "source": [
    "values1 = df.values\n",
    "F = []\n",
    "x = 0\n",
    "for i in values1:\n",
    "    j = pd.Series(i).dropna().values\n",
    "    F.append(f1(j,5))\n",
    "    #print (index[x],F[-1])\n",
    "    x = x +1"
   ]
  },
  {
   "cell_type": "code",
   "execution_count": 7,
   "metadata": {
    "collapsed": true
   },
   "outputs": [],
   "source": [
    "def rank(y,interval):\n",
    "    x = pd.Series(y).fillna(0).values\n",
    "    b = []\n",
    "    for i in x:\n",
    "        b.append(0)\n",
    "        k = 0\n",
    "        for j in interval[0:-1]:\n",
    "            if float(i) >= j:\n",
    "                #print (j)\n",
    "                k = k +1\n",
    "                b[-1] = k\n",
    "    return b"
   ]
  },
  {
   "cell_type": "code",
   "execution_count": 8,
   "metadata": {
    "collapsed": false
   },
   "outputs": [],
   "source": [
    "data = []\n",
    "k = 0\n",
    "for i in values1:\n",
    "    data.append(rank(i,F[k]))\n",
    "    k = k +1"
   ]
  },
  {
   "cell_type": "code",
   "execution_count": 9,
   "metadata": {
    "collapsed": true
   },
   "outputs": [],
   "source": [
    "def ToMatrix(x):\n",
    "    Y = []\n",
    "    #x = x[1:]\n",
    "    length = len(x)\n",
    "    W = np.matrix(np.zeros([length,length]))\n",
    "    for i in range(length):\n",
    "        if x[i] == 0.0:\n",
    "            Y.append(np.zeros([1,length])[0].tolist())   \n",
    "        else:\n",
    "            a = []\n",
    "            for j in range(length):\n",
    "                if x[j] == 0.0 :\n",
    "                    a.append(0)\n",
    "                else :\n",
    "                    a.append(x[j]-x[i])\n",
    "                    W[i,j] = 1\n",
    "            Y.append((a))\n",
    "    return np.matrix(Y), W"
   ]
  },
  {
   "cell_type": "code",
   "execution_count": 10,
   "metadata": {
    "collapsed": false
   },
   "outputs": [],
   "source": [
    "d = data\n",
    "length = len(d[0])\n",
    "A = np.matrix(np.zeros([length,length]))\n",
    "W = np.matrix(np.zeros([length,length]))\n",
    "for i in d:\n",
    "    B,W1 = ToMatrix(i)\n",
    "    A = A + B\n",
    "    W = W + W1\n"
   ]
  },
  {
   "cell_type": "code",
   "execution_count": 11,
   "metadata": {
    "collapsed": true
   },
   "outputs": [],
   "source": [
    "for i in range(length):\n",
    "    for j in range(length):\n",
    "        if W[i,j]!=0:\n",
    "            A[i,j] = A[i,j]/W[i,j]"
   ]
  },
  {
   "cell_type": "code",
   "execution_count": 12,
   "metadata": {
    "collapsed": true
   },
   "outputs": [],
   "source": [
    "def laplacian(Y):\n",
    "     n = len(Y)\n",
    "     x = -Y\n",
    "     for i in range(n):\n",
    "         x[i,i] = sum(Y[i,:])\n",
    "     return x\n",
    "\n",
    "def divergence(Y):\n",
    "     n = len(Y)\n",
    "     x = np.zeros([n,1])\n",
    "     for i in range(n):\n",
    "         x[i] = sum(Y[i,:])\n",
    "     return x"
   ]
  },
  {
   "cell_type": "code",
   "execution_count": 13,
   "metadata": {
    "collapsed": false,
    "scrolled": false
   },
   "outputs": [
    {
     "data": {
      "text/plain": [
       "20"
      ]
     },
     "execution_count": 13,
     "metadata": {},
     "output_type": "execute_result"
    }
   ],
   "source": [
    "len(data[0])"
   ]
  },
  {
   "cell_type": "code",
   "execution_count": 14,
   "metadata": {
    "collapsed": true
   },
   "outputs": [],
   "source": [
    "B = laplacian(np.array(W))\n",
    "c = divergence(np.array(A))\n",
    "D = np.matrix(np.linalg.pinv(B))"
   ]
  },
  {
   "cell_type": "code",
   "execution_count": 15,
   "metadata": {
    "collapsed": true
   },
   "outputs": [],
   "source": [
    "s = -D*c"
   ]
  },
  {
   "cell_type": "code",
   "execution_count": 16,
   "metadata": {
    "collapsed": false
   },
   "outputs": [],
   "source": [
    "s = np.array(s)\n",
    "s = [i[0] for i in s]"
   ]
  },
  {
   "cell_type": "code",
   "execution_count": 20,
   "metadata": {
    "collapsed": false
   },
   "outputs": [],
   "source": [
    "result = pd.DataFrame(data = {\n",
    "        \n",
    "        '分數':s,\n",
    "        '銀行': index\n",
    "    })"
   ]
  },
  {
   "cell_type": "code",
   "execution_count": 18,
   "metadata": {
    "collapsed": false
   },
   "outputs": [],
   "source": [
    "\n"
   ]
  },
  {
   "cell_type": "code",
   "execution_count": 24,
   "metadata": {
    "collapsed": false
   },
   "outputs": [
    {
     "data": {
      "text/html": [
       "<div style=\"max-height:1000px;max-width:1500px;overflow:auto;\">\n",
       "<table border=\"1\" class=\"dataframe\">\n",
       "  <thead>\n",
       "    <tr style=\"text-align: right;\">\n",
       "      <th></th>\n",
       "      <th>銀行</th>\n",
       "      <th>分數</th>\n",
       "    </tr>\n",
       "  </thead>\n",
       "  <tbody>\n",
       "    <tr>\n",
       "      <th>16</th>\n",
       "      <td>     新光銀行</td>\n",
       "      <td> 0.429532</td>\n",
       "    </tr>\n",
       "    <tr>\n",
       "      <th>15</th>\n",
       "      <td>     大眾銀行</td>\n",
       "      <td> 0.429532</td>\n",
       "    </tr>\n",
       "    <tr>\n",
       "      <th>1 </th>\n",
       "      <td>     安泰銀行</td>\n",
       "      <td> 0.142387</td>\n",
       "    </tr>\n",
       "    <tr>\n",
       "      <th>8 </th>\n",
       "      <td>     中國信託</td>\n",
       "      <td> 0.098759</td>\n",
       "    </tr>\n",
       "    <tr>\n",
       "      <th>9 </th>\n",
       "      <td>     元大銀行</td>\n",
       "      <td> 0.064793</td>\n",
       "    </tr>\n",
       "    <tr>\n",
       "      <th>4 </th>\n",
       "      <td>     台新銀行</td>\n",
       "      <td> 0.038445</td>\n",
       "    </tr>\n",
       "    <tr>\n",
       "      <th>10</th>\n",
       "      <td>     匯豐銀行</td>\n",
       "      <td> 0.026704</td>\n",
       "    </tr>\n",
       "    <tr>\n",
       "      <th>3 </th>\n",
       "      <td>     兆豐銀行</td>\n",
       "      <td> 0.026704</td>\n",
       "    </tr>\n",
       "    <tr>\n",
       "      <th>11</th>\n",
       "      <td>   臺北富邦銀行</td>\n",
       "      <td> 0.017455</td>\n",
       "    </tr>\n",
       "    <tr>\n",
       "      <th>7 </th>\n",
       "      <td>     上海銀行</td>\n",
       "      <td>-0.012581</td>\n",
       "    </tr>\n",
       "    <tr>\n",
       "      <th>18</th>\n",
       "      <td>   國泰世華銀行</td>\n",
       "      <td>-0.017115</td>\n",
       "    </tr>\n",
       "    <tr>\n",
       "      <th>14</th>\n",
       "      <td>     合作金庫</td>\n",
       "      <td>-0.028040</td>\n",
       "    </tr>\n",
       "    <tr>\n",
       "      <th>19</th>\n",
       "      <td>     玉山銀行</td>\n",
       "      <td>-0.044083</td>\n",
       "    </tr>\n",
       "    <tr>\n",
       "      <th>13</th>\n",
       "      <td>     土地銀行</td>\n",
       "      <td>-0.055057</td>\n",
       "    </tr>\n",
       "    <tr>\n",
       "      <th>5 </th>\n",
       "      <td>     台灣銀行</td>\n",
       "      <td>-0.066129</td>\n",
       "    </tr>\n",
       "    <tr>\n",
       "      <th>12</th>\n",
       "      <td> 台灣中小企業銀行</td>\n",
       "      <td>-0.070159</td>\n",
       "    </tr>\n",
       "    <tr>\n",
       "      <th>0 </th>\n",
       "      <td>     高雄銀行</td>\n",
       "      <td>-0.078605</td>\n",
       "    </tr>\n",
       "    <tr>\n",
       "      <th>2 </th>\n",
       "      <td>     第一銀行</td>\n",
       "      <td>-0.080390</td>\n",
       "    </tr>\n",
       "    <tr>\n",
       "      <th>6 </th>\n",
       "      <td>     三信銀行</td>\n",
       "      <td>-0.128565</td>\n",
       "    </tr>\n",
       "    <tr>\n",
       "      <th>17</th>\n",
       "      <td>     日盛銀行</td>\n",
       "      <td>-1.127821</td>\n",
       "    </tr>\n",
       "  </tbody>\n",
       "</table>\n",
       "</div>"
      ],
      "text/plain": [
       "          銀行        分數\n",
       "16      新光銀行  0.429532\n",
       "15      大眾銀行  0.429532\n",
       "1       安泰銀行  0.142387\n",
       "8       中國信託  0.098759\n",
       "9       元大銀行  0.064793\n",
       "4       台新銀行  0.038445\n",
       "10      匯豐銀行  0.026704\n",
       "3       兆豐銀行  0.026704\n",
       "11    臺北富邦銀行  0.017455\n",
       "7       上海銀行 -0.012581\n",
       "18    國泰世華銀行 -0.017115\n",
       "14      合作金庫 -0.028040\n",
       "19      玉山銀行 -0.044083\n",
       "13      土地銀行 -0.055057\n",
       "5       台灣銀行 -0.066129\n",
       "12  台灣中小企業銀行 -0.070159\n",
       "0       高雄銀行 -0.078605\n",
       "2       第一銀行 -0.080390\n",
       "6       三信銀行 -0.128565\n",
       "17      日盛銀行 -1.127821"
      ]
     },
     "execution_count": 24,
     "metadata": {},
     "output_type": "execute_result"
    }
   ],
   "source": [
    "result.sort('分數',ascending=0)[['銀行','分數']]"
   ]
  },
  {
   "cell_type": "code",
   "execution_count": null,
   "metadata": {
    "collapsed": true
   },
   "outputs": [],
   "source": []
  }
 ],
 "metadata": {
  "kernelspec": {
   "display_name": "Python 3",
   "language": "python",
   "name": "python3"
  },
  "language_info": {
   "codemirror_mode": {
    "name": "ipython",
    "version": 3
   },
   "file_extension": ".py",
   "mimetype": "text/x-python",
   "name": "python",
   "nbconvert_exporter": "python",
   "pygments_lexer": "ipython3",
   "version": "3.4.3"
  }
 },
 "nbformat": 4,
 "nbformat_minor": 0
}
